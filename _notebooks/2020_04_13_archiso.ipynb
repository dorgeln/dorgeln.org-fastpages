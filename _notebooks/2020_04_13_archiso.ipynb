{
 "cells": [
  {
   "cell_type": "markdown",
   "id": "22b143d1-8ad3-43c7-8bc2-460bfaf41925",
   "metadata": {},
   "source": [
    "# \"Customizing an Arch Linux live CD ISO\"\n",
    "> \"How to build your own Arch Linux install image\"\n",
    "\n",
    "- toc:false\n",
    "- branch: master\n",
    "- badges: true\n",
    "- comments: false\n",
    "- author: Andreas Trawöger\n",
    "- categories: [arch]"
   ]
  },
  {
   "cell_type": "markdown",
   "id": "03475ae4-4da0-4a29-8f25-532ed65c0528",
   "metadata": {},
   "source": [
    "## Install Archiso package"
   ]
  },
  {
   "cell_type": "code",
   "execution_count": 31,
   "id": "46d4fcbb-c211-416d-8ead-de1e7bcebfe5",
   "metadata": {},
   "outputs": [
    {
     "name": "stdout",
     "output_type": "stream",
     "text": [
      "resolving dependencies...\n",
      "looking for conflicting packages...\n",
      "\n",
      "Packages (1) archiso-52-1\n",
      "\n",
      "Total Installed Size:  0.16 MiB\n",
      "Net Upgrade Size:      0.00 MiB\n",
      "\n",
      ":: Proceed with installation? [Y/n] \n",
      "checking keyring...\n",
      "checking package integrity...\n",
      "loading package files...\n",
      "checking for file conflicts...\n",
      ":: Processing package changes...\n",
      "reinstalling archiso...\n",
      ":: Running post-transaction hooks...\n",
      "(1/1) Arming ConditionNeedsUpdate...\n"
     ]
    },
    {
     "name": "stderr",
     "output_type": "stream",
     "text": [
      "warning: archiso-52-1 is up to date -- reinstalling\n"
     ]
    }
   ],
   "source": [
    "%%bash \n",
    "#collapse-output\n",
    "sudo pacman --noconfirm -S archiso"
   ]
  },
  {
   "cell_type": "code",
   "execution_count": 28,
   "id": "e1806307-3704-4411-b417-652ae6544710",
   "metadata": {},
   "outputs": [
    {
     "name": "stdout",
     "output_type": "stream",
     "text": [
      "env: CONFIG=myarch\n",
      "/home/jovian/_notebooks/data/out/myarch\n",
      "'/usr/share/archiso/configs/releng/airootfs/etc/hostname' -> './airootfs/etc/hostname'\n",
      "'/usr/share/archiso/configs/releng/airootfs/etc/locale.conf' -> './airootfs/etc/locale.conf'\n",
      "removed './airootfs/etc/localtime'\n",
      "'/usr/share/archiso/configs/releng/airootfs/etc/localtime' -> './airootfs/etc/localtime'\n",
      "'/usr/share/archiso/configs/releng/airootfs/etc/mkinitcpio.conf' -> './airootfs/etc/mkinitcpio.conf'\n",
      "'/usr/share/archiso/configs/releng/airootfs/etc/motd' -> './airootfs/etc/motd'\n",
      "'/usr/share/archiso/configs/releng/airootfs/etc/passwd' -> './airootfs/etc/passwd'\n",
      "removed './airootfs/etc/resolv.conf'\n",
      "'/usr/share/archiso/configs/releng/airootfs/etc/resolv.conf' -> './airootfs/etc/resolv.conf'\n",
      "'/usr/share/archiso/configs/releng/airootfs/etc/shadow' -> './airootfs/etc/shadow'\n",
      "'/usr/share/archiso/configs/releng/airootfs/etc/mkinitcpio.d/linux.preset' -> './airootfs/etc/mkinitcpio.d/linux.preset'\n",
      "'/usr/share/archiso/configs/releng/airootfs/etc/modprobe.d/broadcom-wl.conf' -> './airootfs/etc/modprobe.d/broadcom-wl.conf'\n",
      "'/usr/share/archiso/configs/releng/airootfs/etc/pacman.d/hooks/40-locale-gen.hook' -> './airootfs/etc/pacman.d/hooks/40-locale-gen.hook'\n",
      "'/usr/share/archiso/configs/releng/airootfs/etc/pacman.d/hooks/uncomment-mirrors.hook' -> './airootfs/etc/pacman.d/hooks/uncomment-mirrors.hook'\n",
      "'/usr/share/archiso/configs/releng/airootfs/etc/pacman.d/hooks/zzzz99-remove-custom-hooks-from-airootfs.hook' -> './airootfs/etc/pacman.d/hooks/zzzz99-remove-custom-hooks-from-airootfs.hook'\n",
      "'/usr/share/archiso/configs/releng/airootfs/etc/ssh/sshd_config' -> './airootfs/etc/ssh/sshd_config'\n",
      "'/usr/share/archiso/configs/releng/airootfs/etc/xdg/reflector/reflector.conf' -> './airootfs/etc/xdg/reflector/reflector.conf'\n",
      "'/usr/share/archiso/configs/releng/airootfs/etc/systemd/journald.conf.d/volatile-storage.conf' -> './airootfs/etc/systemd/journald.conf.d/volatile-storage.conf'\n",
      "'/usr/share/archiso/configs/releng/airootfs/etc/systemd/logind.conf.d/do-not-suspend.conf' -> './airootfs/etc/systemd/logind.conf.d/do-not-suspend.conf'\n",
      "'/usr/share/archiso/configs/releng/airootfs/etc/systemd/network/20-ethernet.network' -> './airootfs/etc/systemd/network/20-ethernet.network'\n",
      "'/usr/share/archiso/configs/releng/airootfs/etc/systemd/network/20-wlan.network' -> './airootfs/etc/systemd/network/20-wlan.network'\n",
      "'/usr/share/archiso/configs/releng/airootfs/etc/systemd/network/20-wwan.network' -> './airootfs/etc/systemd/network/20-wwan.network'\n",
      "removed './airootfs/etc/systemd/system/cloud-init.target.wants/cloud-config.service'\n",
      "'/usr/share/archiso/configs/releng/airootfs/etc/systemd/system/cloud-init.target.wants/cloud-config.service' -> './airootfs/etc/systemd/system/cloud-init.target.wants/cloud-config.service'\n",
      "removed './airootfs/etc/systemd/system/cloud-init.target.wants/cloud-final.service'\n",
      "'/usr/share/archiso/configs/releng/airootfs/etc/systemd/system/cloud-init.target.wants/cloud-final.service' -> './airootfs/etc/systemd/system/cloud-init.target.wants/cloud-final.service'\n",
      "removed './airootfs/etc/systemd/system/cloud-init.target.wants/cloud-init-local.service'\n",
      "'/usr/share/archiso/configs/releng/airootfs/etc/systemd/system/cloud-init.target.wants/cloud-init-local.service' -> './airootfs/etc/systemd/system/cloud-init.target.wants/cloud-init-local.service'\n",
      "removed './airootfs/etc/systemd/system/cloud-init.target.wants/cloud-init.service'\n",
      "'/usr/share/archiso/configs/releng/airootfs/etc/systemd/system/cloud-init.target.wants/cloud-init.service' -> './airootfs/etc/systemd/system/cloud-init.target.wants/cloud-init.service'\n",
      "'/usr/share/archiso/configs/releng/airootfs/etc/systemd/system/getty@tty1.service.d/autologin.conf' -> './airootfs/etc/systemd/system/getty@tty1.service.d/autologin.conf'\n",
      "removed './airootfs/etc/systemd/system/multi-user.target.wants/ModemManager.service'\n",
      "'/usr/share/archiso/configs/releng/airootfs/etc/systemd/system/multi-user.target.wants/ModemManager.service' -> './airootfs/etc/systemd/system/multi-user.target.wants/ModemManager.service'\n",
      "removed './airootfs/etc/systemd/system/multi-user.target.wants/choose-mirror.service'\n",
      "'/usr/share/archiso/configs/releng/airootfs/etc/systemd/system/multi-user.target.wants/choose-mirror.service' -> './airootfs/etc/systemd/system/multi-user.target.wants/choose-mirror.service'\n",
      "removed './airootfs/etc/systemd/system/multi-user.target.wants/iwd.service'\n",
      "'/usr/share/archiso/configs/releng/airootfs/etc/systemd/system/multi-user.target.wants/iwd.service' -> './airootfs/etc/systemd/system/multi-user.target.wants/iwd.service'\n",
      "removed './airootfs/etc/systemd/system/multi-user.target.wants/livecd-talk.service'\n",
      "'/usr/share/archiso/configs/releng/airootfs/etc/systemd/system/multi-user.target.wants/livecd-talk.service' -> './airootfs/etc/systemd/system/multi-user.target.wants/livecd-talk.service'\n",
      "removed './airootfs/etc/systemd/system/multi-user.target.wants/pacman-init.service'\n",
      "'/usr/share/archiso/configs/releng/airootfs/etc/systemd/system/multi-user.target.wants/pacman-init.service' -> './airootfs/etc/systemd/system/multi-user.target.wants/pacman-init.service'\n",
      "removed './airootfs/etc/systemd/system/multi-user.target.wants/reflector.service'\n",
      "'/usr/share/archiso/configs/releng/airootfs/etc/systemd/system/multi-user.target.wants/reflector.service' -> './airootfs/etc/systemd/system/multi-user.target.wants/reflector.service'\n",
      "removed './airootfs/etc/systemd/system/multi-user.target.wants/sshd.service'\n",
      "'/usr/share/archiso/configs/releng/airootfs/etc/systemd/system/multi-user.target.wants/sshd.service' -> './airootfs/etc/systemd/system/multi-user.target.wants/sshd.service'\n",
      "removed './airootfs/etc/systemd/system/multi-user.target.wants/systemd-networkd.service'\n",
      "'/usr/share/archiso/configs/releng/airootfs/etc/systemd/system/multi-user.target.wants/systemd-networkd.service' -> './airootfs/etc/systemd/system/multi-user.target.wants/systemd-networkd.service'\n",
      "removed './airootfs/etc/systemd/system/multi-user.target.wants/systemd-resolved.service'\n",
      "'/usr/share/archiso/configs/releng/airootfs/etc/systemd/system/multi-user.target.wants/systemd-resolved.service' -> './airootfs/etc/systemd/system/multi-user.target.wants/systemd-resolved.service'\n",
      "removed './airootfs/etc/systemd/system/network-online.target.wants/systemd-networkd-wait-online.service'\n",
      "'/usr/share/archiso/configs/releng/airootfs/etc/systemd/system/network-online.target.wants/systemd-networkd-wait-online.service' -> './airootfs/etc/systemd/system/network-online.target.wants/systemd-networkd-wait-online.service'\n",
      "'/usr/share/archiso/configs/releng/airootfs/etc/systemd/system/reflector.service.d/archiso.conf' -> './airootfs/etc/systemd/system/reflector.service.d/archiso.conf'\n",
      "removed './airootfs/etc/systemd/system/sockets.target.wants/systemd-networkd.socket'\n",
      "'/usr/share/archiso/configs/releng/airootfs/etc/systemd/system/sockets.target.wants/systemd-networkd.socket' -> './airootfs/etc/systemd/system/sockets.target.wants/systemd-networkd.socket'\n",
      "removed './airootfs/etc/systemd/system/sound.target.wants/livecd-alsa-unmuter.service'\n",
      "'/usr/share/archiso/configs/releng/airootfs/etc/systemd/system/sound.target.wants/livecd-alsa-unmuter.service' -> './airootfs/etc/systemd/system/sound.target.wants/livecd-alsa-unmuter.service'\n",
      "'/usr/share/archiso/configs/releng/airootfs/etc/systemd/system/systemd-networkd-wait-online.service.d/wait-for-only-one-interface.conf' -> './airootfs/etc/systemd/system/systemd-networkd-wait-online.service.d/wait-for-only-one-interface.conf'\n",
      "'/usr/share/archiso/configs/releng/airootfs/etc/systemd/system/choose-mirror.service' -> './airootfs/etc/systemd/system/choose-mirror.service'\n",
      "removed './airootfs/etc/systemd/system/dbus-org.freedesktop.ModemManager1.service'\n",
      "'/usr/share/archiso/configs/releng/airootfs/etc/systemd/system/dbus-org.freedesktop.ModemManager1.service' -> './airootfs/etc/systemd/system/dbus-org.freedesktop.ModemManager1.service'\n",
      "removed './airootfs/etc/systemd/system/dbus-org.freedesktop.network1.service'\n",
      "'/usr/share/archiso/configs/releng/airootfs/etc/systemd/system/dbus-org.freedesktop.network1.service' -> './airootfs/etc/systemd/system/dbus-org.freedesktop.network1.service'\n",
      "removed './airootfs/etc/systemd/system/dbus-org.freedesktop.resolve1.service'\n",
      "'/usr/share/archiso/configs/releng/airootfs/etc/systemd/system/dbus-org.freedesktop.resolve1.service' -> './airootfs/etc/systemd/system/dbus-org.freedesktop.resolve1.service'\n",
      "'/usr/share/archiso/configs/releng/airootfs/etc/systemd/system/etc-pacman.d-gnupg.mount' -> './airootfs/etc/systemd/system/etc-pacman.d-gnupg.mount'\n",
      "'/usr/share/archiso/configs/releng/airootfs/etc/systemd/system/livecd-alsa-unmuter.service' -> './airootfs/etc/systemd/system/livecd-alsa-unmuter.service'\n",
      "'/usr/share/archiso/configs/releng/airootfs/etc/systemd/system/livecd-talk.service' -> './airootfs/etc/systemd/system/livecd-talk.service'\n",
      "'/usr/share/archiso/configs/releng/airootfs/etc/systemd/system/pacman-init.service' -> './airootfs/etc/systemd/system/pacman-init.service'\n",
      "'/usr/share/archiso/configs/releng/airootfs/root/.automated_script.sh' -> './airootfs/root/.automated_script.sh'\n",
      "'/usr/share/archiso/configs/releng/airootfs/root/.zlogin' -> './airootfs/root/.zlogin'\n",
      "'/usr/share/archiso/configs/releng/airootfs/usr/local/share/livecd-sound/asound.conf.in' -> './airootfs/usr/local/share/livecd-sound/asound.conf.in'\n",
      "'/usr/share/archiso/configs/releng/airootfs/usr/local/bin/Installation_guide' -> './airootfs/usr/local/bin/Installation_guide'\n",
      "'/usr/share/archiso/configs/releng/airootfs/usr/local/bin/choose-mirror' -> './airootfs/usr/local/bin/choose-mirror'\n",
      "'/usr/share/archiso/configs/releng/airootfs/usr/local/bin/livecd-sound' -> './airootfs/usr/local/bin/livecd-sound'\n",
      "'/usr/share/archiso/configs/releng/efiboot/loader/loader.conf' -> './efiboot/loader/loader.conf'\n",
      "'/usr/share/archiso/configs/releng/efiboot/loader/entries/archiso-x86_64-linux.conf' -> './efiboot/loader/entries/archiso-x86_64-linux.conf'\n",
      "'/usr/share/archiso/configs/releng/efiboot/loader/entries/archiso-x86_64-speech-linux.conf' -> './efiboot/loader/entries/archiso-x86_64-speech-linux.conf'\n",
      "'/usr/share/archiso/configs/releng/packages.x86_64' -> './packages.x86_64'\n",
      "'/usr/share/archiso/configs/releng/pacman.conf' -> './pacman.conf'\n",
      "'/usr/share/archiso/configs/releng/profiledef.sh' -> './profiledef.sh'\n",
      "'/usr/share/archiso/configs/releng/syslinux/archiso_head.cfg' -> './syslinux/archiso_head.cfg'\n",
      "'/usr/share/archiso/configs/releng/syslinux/archiso_pxe-linux.cfg' -> './syslinux/archiso_pxe-linux.cfg'\n",
      "'/usr/share/archiso/configs/releng/syslinux/archiso_pxe.cfg' -> './syslinux/archiso_pxe.cfg'\n",
      "'/usr/share/archiso/configs/releng/syslinux/archiso_sys-linux.cfg' -> './syslinux/archiso_sys-linux.cfg'\n",
      "'/usr/share/archiso/configs/releng/syslinux/archiso_sys.cfg' -> './syslinux/archiso_sys.cfg'\n",
      "'/usr/share/archiso/configs/releng/syslinux/archiso_tail.cfg' -> './syslinux/archiso_tail.cfg'\n",
      "'/usr/share/archiso/configs/releng/syslinux/splash.png' -> './syslinux/splash.png'\n",
      "'/usr/share/archiso/configs/releng/syslinux/syslinux.cfg' -> './syslinux/syslinux.cfg'\n"
     ]
    }
   ],
   "source": [
    "#collapse-output\n",
    "%env CONFIG=myarch\n",
    "%mkdir -p ~/_notebooks/data/out/$CONFIG\n",
    "%cd ~/_notebooks/data/out/myarch\n",
    "! cp -rv /usr/share/archiso/configs/releng/* ."
   ]
  },
  {
   "cell_type": "code",
   "execution_count": null,
   "id": "f9c12912-245d-4d0a-8469-958d94607b02",
   "metadata": {},
   "outputs": [],
   "source": []
  }
 ],
 "metadata": {
  "kernelspec": {
   "display_name": "Python 3",
   "language": "python",
   "name": "python3"
  },
  "language_info": {
   "codemirror_mode": {
    "name": "ipython",
    "version": 3
   },
   "file_extension": ".py",
   "mimetype": "text/x-python",
   "name": "python",
   "nbconvert_exporter": "python",
   "pygments_lexer": "ipython3",
   "version": "3.8.8"
  }
 },
 "nbformat": 4,
 "nbformat_minor": 5
}
